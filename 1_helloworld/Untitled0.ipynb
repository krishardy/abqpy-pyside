{
 "metadata": {
  "name": ""
 },
 "nbformat": 3,
 "nbformat_minor": 0,
 "worksheets": [
  {
   "cells": [
    {
     "cell_type": "code",
     "collapsed": false,
     "input": [
      "import sys\n",
      "sys.argv"
     ],
     "language": "python",
     "metadata": {},
     "outputs": [
      {
       "metadata": {},
       "output_type": "pyout",
       "prompt_number": 1,
       "text": [
        "['-c',\n",
        " '-f',\n",
        " '/home/kris/.ipython/profile_default/security/kernel-0bf1648a-d62c-4af6-b287-b668ed0ed429.json',\n",
        " \"--IPKernelApp.parent_appname='ipython-notebook'\",\n",
        " '--profile-dir',\n",
        " '/home/kris/.ipython/profile_default',\n",
        " '--parent=1']"
       ]
      }
     ],
     "prompt_number": 1
    },
    {
     "cell_type": "code",
     "collapsed": false,
     "input": [
      "import sys\n",
      "\n",
      "from PySide import QtGui\n",
      "\n",
      "app = QtGui.QApplication(sys.argv)\n",
      "widget = QtGui.QWidget()\n",
      "widget.setWindowTitle(\"Hello World\")\n",
      "widget.show()\n",
      "app.exec_()  # This starts the event loop\n"
     ],
     "language": "python",
     "metadata": {},
     "outputs": [
      {
       "metadata": {},
       "output_type": "pyout",
       "prompt_number": 2,
       "text": [
        "0"
       ]
      }
     ],
     "prompt_number": 2
    },
    {
     "cell_type": "code",
     "collapsed": false,
     "input": [
      "app"
     ],
     "language": "python",
     "metadata": {},
     "outputs": []
    }
   ],
   "metadata": {}
  }
 ]
}